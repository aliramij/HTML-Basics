{
  "cells": [
    {
      "cell_type": "markdown",
      "metadata": {
        "id": "CJkzvSsv5hWV"
      },
      "source": [
        "#HTML Basics | Assignment"
      ]
    },
    {
      "cell_type": "code",
      "execution_count": null,
      "metadata": {
        "id": "v9ywINRG9r3E"
      },
      "outputs": [],
      "source": [
        "# Question 1 : Explain the basic structure of an HTML page. Why is it important to follow this structure?\n",
        "'''\n",
        "This is the basic structure of html\n",
        "'''\n",
        "'''\n",
        "<!DOCTYPE html>       <!--declares the document type html5-->\n",
        "<html lang=\"en\">      <!--it define the root element of page and language english-->\n",
        "<head>                <!--head tag contain meta data inside this tag we can access external css links-->\n",
        "    <meta charset=\"UTF-8\">\n",
        "    <meta name=\"viewport\" content=\"width=device-width, initial-scale=1.0\">\n",
        "    <title>Document</title>     <!--the title shows on the top of the browser tab-->\n",
        "</head>\n",
        "<body>\n",
        "    <!--Main content of the web page goes here-->\n",
        "</body>\n",
        "</html>\n",
        "'''"
      ]
    },
    {
      "cell_type": "markdown",
      "metadata": {
        "id": "ldwkqJh_C7ps"
      },
      "source": [
        "Important to follow this structure--\n",
        "1. Search Engine Optimization (SEO):\n",
        "Search engines like Google use structured content to rank pages better.\n",
        "\n",
        "2. Browser Compatibility:\n",
        "Ensures that all browsers can read and display your page properly.\n",
        "\n",
        "3. Performance:\n",
        "Clean structure ensures fast rendering and loading of pages.\n",
        "\n",
        "4. Maintainability\n",
        "Easy for developers to read, edit, and update the code."
      ]
    },
    {
      "cell_type": "code",
      "execution_count": null,
      "metadata": {
        "id": "5NjafR28DuEk"
      },
      "outputs": [],
      "source": [
        "# Question 2: You’re building a small personal profile page. Which HTML tags will you use to highlight your name as a heading, describe yourself in a paragraph, and emphasize a key skill?\n",
        "\n",
        "'''\n",
        "I use to highlight my name as a heading using <h1></h1>tag.\n",
        "Describe my self using <p></p> tag.\n",
        "Emphasize a key skill i will use <em> or <strong> tag.\n",
        "'''\n",
        "\n",
        "'''\n",
        "<!DOCTYPE html>\n",
        "<html lang=\"en\">\n",
        "<head>\n",
        "  <meta charset=\"UTF-8\">\n",
        "  <title>My Profile</title>\n",
        "</head>\n",
        "<body>\n",
        "  <h1>Ramiz Ali</h1>\n",
        "  <p>Hello! I am a passionate front-end developer who loves creating beautiful and responsive websites. I am currently learning and improving my skills in <strong>JavaScript</strong> and <em>Reactjs</em>.</p>\n",
        "</body>\n",
        "</html>\n",
        "'''"
      ]
    },
    {
      "cell_type": "code",
      "execution_count": null,
      "metadata": {
        "id": "fDMXz0FxFSYt"
      },
      "outputs": [],
      "source": [
        "# Question 3: Look at the code below. Can you find and fix the mistake?\n",
        "#<!-- This is an HTML comment\n",
        "#<h1>Welcome to my website</h1>\n",
        "\n",
        "'''\n",
        "the comment is missing -->\n",
        "it should look like that---\n",
        "\n",
        "<!-- This is an HTML comment -->\n",
        "<h1>Welcome to my website</h1>\n",
        "'''\n"
      ]
    },
    {
      "cell_type": "code",
      "execution_count": null,
      "metadata": {
        "id": "sY5l2vf2HyTN"
      },
      "outputs": [],
      "source": [
        "# Question 4: You’re creating a form that asks the user to enter their name, select their country from a list, and click a button to submit. Write the HTML code for this.\n",
        "\n",
        "'''\n",
        "<!DOCTYPE html>\n",
        "<html lang=\"en\">\n",
        "<head>\n",
        "    <meta charset=\"UTF-8\">\n",
        "    <meta name=\"viewport\" content=\"width=device-width, initial-scale=1.0\">\n",
        "    <title>Form page</title>\n",
        "</head>\n",
        "<body>\n",
        "    <div>\n",
        "        <form>\n",
        "            <label for=\"name\">Name:\n",
        "                <input type=\"text\" id=\"name\" placeholder=\"Enter your name\">\n",
        "            </label>\n",
        "    </div><br>\n",
        "    <div>\n",
        "        <label>Select your Country:</label>\n",
        "        <select>\n",
        "            <option>Select your country</option>\n",
        "            <option value=\"\">India</option>\n",
        "            <option value=\"\">China</option>\n",
        "            <option value=\"\">Usa</option>\n",
        "            <option value=\"\">England</option>\n",
        "        </select>\n",
        "    </div><br>\n",
        "    <button type=\"submit\">Submit</button>\n",
        "    </form>\n",
        "</body>\n",
        "</html>\n",
        "'''\n"
      ]
    },
    {
      "cell_type": "code",
      "execution_count": null,
      "metadata": {
        "id": "Fvh0YmU_IHTd"
      },
      "outputs": [],
      "source": [
        "# Question 5: Write short HTML code to show your favorite fruits in a bulleted list and your top 3 programming languages in a numbered list.\n",
        "\n",
        "'''\n",
        "<!DOCTYPE html>\n",
        "<html lang=\"en\">\n",
        "  <head>\n",
        "    <meta charset=\"UTF-8\" />\n",
        "    <meta name=\"viewport\" content=\"width=device-width, initial-scale=1.0\" />\n",
        "    <title>Document</title>\n",
        "  </head>\n",
        "  <body>\n",
        "    <div>\n",
        "      <h2>Favorite Fruits</h2>\n",
        "      <ul>\n",
        "        <li>Mango</li>\n",
        "        <li>Apple</li>\n",
        "        <li>Banana</li>\n",
        "      </ul>\n",
        "      <h2>My top 3 Programming Languages</h2>\n",
        "      <ol>\n",
        "        <li>Python</li>\n",
        "        <li>C++</li>\n",
        "        <li>Java</li>\n",
        "      </ol>\n",
        "    </div>\n",
        "  </body>\n",
        "</html>\n",
        "'''\n"
      ]
    },
    {
      "cell_type": "code",
      "execution_count": null,
      "metadata": {
        "id": "fDvnAaOMJYn9"
      },
      "outputs": [],
      "source": [
        "# Question 6: Ravi wants to leave a note in his HTML file so that only other developers can see it, not the users on the website. How should he do this? Why are such notes useful?\n",
        "\n",
        "'''\n",
        "<!-- This is unordered list --> this is how he can do this\n",
        "'''\n"
      ]
    },
    {
      "cell_type": "markdown",
      "metadata": {
        "id": "8XT-RS8tKT_N"
      },
      "source": [
        "Notes are useful because\n",
        "1. Developers can leave reminders or explain complex sections of the code.\n",
        "2. \tHelps teammates understand parts of the code without needing external documentation.\n",
        "3. \tYou can comment out code during testing or debugging."
      ]
    },
    {
      "cell_type": "code",
      "execution_count": null,
      "metadata": {
        "id": "EwcYezA2K-Bl"
      },
      "outputs": [],
      "source": [
        "# Question 7: Here’s a form snippet. Can you spot the error and rewrite the correct version?\n",
        "#<form>\n",
        "#<input name=\"email\">\n",
        "#<select>\n",
        "#<option>India</option>\n",
        "#</select>\n",
        "#<button>Send</buton>\n",
        "#</form>\n",
        "\n",
        "'''\n",
        "Here inside the code we have to declare the type as email and button spelling mistake\n",
        "\n",
        "final answer is\n",
        "\n",
        "<form>\n",
        " <input type=\"email \"name=\"email\">\n",
        " <select>\n",
        " <option>India</option>\n",
        " </select>\n",
        " <button>Send</button>\n",
        "</form>\n",
        "'''"
      ]
    }
  ],
  "metadata": {
    "colab": {
      "provenance": []
    },
    "kernelspec": {
      "display_name": "Python 3",
      "name": "python3"
    },
    "language_info": {
      "name": "python"
    }
  },
  "nbformat": 4,
  "nbformat_minor": 0
}
